{
    "cells": [
        {
            "cell_type": "code",
            "execution_count": null,
            "metadata": {
                "collapsed": true
            },
            "outputs": [],
            "source": [
                "import pandas as pd\n",
                "import matplotlib.pyplot as plt\n",
                "import numpy as np\n",
                "from sklearn import preprocessing\n",
                "from sklearn.metrics.pairwise import euclidean_distances\n",
                "%matplotlib inline"
            ]
        },
        {
            "cell_type": "code",
            "execution_count": null,
            "metadata": {
                "collapsed": true
            },
            "outputs": [],
            "source": [
                "data = pd.read_csv(\"oscar_age_female.csv\")\n",
                "\n",
                "# select rows using regular expression\n",
                "data[data.Name.str.contains('ss|tt')]"
            ]
        },
        {
            "cell_type": "code",
            "execution_count": null,
            "metadata": {
                "collapsed": true
            },
            "outputs": [],
            "source": [
                "# select rows using regular expression\n",
                "data[data.Movie.str.contains('y$')]"
            ]
        },
        {
            "cell_type": "code",
            "execution_count": null,
            "metadata": {
                "collapsed": true
            },
            "outputs": [],
            "source": [
                "# select rows using regular expression\n",
                "data[data.Movie.str.contains('^[^T]')]"
            ]
        },
        {
            "cell_type": "code",
            "execution_count": null,
            "metadata": {
                "collapsed": true
            },
            "outputs": [],
            "source": [
                "# select rows using regular expression\n",
                "data[data.Name.str.contains('[A-Z][a-z][A-Z]')]"
            ]
        },
        {
            "cell_type": "code",
            "execution_count": null,
            "metadata": {
                "collapsed": true
            },
            "outputs": [],
            "source": [
                "# select rows using regular expression\n",
                "data[data.Name.str.contains('H.*H')]"
            ]
        },
        {
            "cell_type": "code",
            "execution_count": null,
            "metadata": {
                "collapsed": true
            },
            "outputs": [],
            "source": [
                "# select rows using regular expression\n",
                "data[data.Movie.str.contains(' (.* )+')]"
            ]
        },
        {
            "cell_type": "code",
            "execution_count": null,
            "metadata": {
                "collapsed": true
            },
            "outputs": [],
            "source": [
                "data2 = pd.read_csv(\"grades.csv\")\n",
                "tmp = data2.Grade.replace('[+-]','',regex=True)\n",
                "data2.Grade = tmp\n",
                "data2"
            ]
        },
        {
            "cell_type": "code",
            "execution_count": null,
            "metadata": {
                "collapsed": true
            },
            "outputs": [],
            "source": [
                "data3 = pd.read_csv(\"iris.dat\",sep=',')\n",
                "data3s1 = data3.sample(frac=0.1)\n",
                "data3s2 = data3.sample(frac=0.1)\n",
                "\n",
                "plt.scatter(data3s1['sepal-length'],data3s2['sepal-length'])"
            ]
        },
        {
            "cell_type": "code",
            "execution_count": null,
            "metadata": {
                "collapsed": true
            },
            "outputs": [],
            "source": [
                "data4 = data3.sample(10)\n",
                "data4.sort_index()"
            ]
        },
        {
            "cell_type": "code",
            "execution_count": null,
            "metadata": {
                "collapsed": true
            },
            "outputs": [],
            "source": [
                "# partition dataframe randomly into two sets\n",
                "data4s1 = data4.sample(frac=0.5)\n",
                "# drop rows from first sample\n",
                "data4s2 = data4.drop(data4s1.index)\n",
                "data4s1.sort_index()"
            ]
        },
        {
            "cell_type": "code",
            "execution_count": null,
            "metadata": {
                "collapsed": true
            },
            "outputs": [],
            "source": [
                "data4s2.sort_index()"
            ]
        },
        {
            "cell_type": "code",
            "execution_count": null,
            "metadata": {
                "collapsed": true
            },
            "outputs": [],
            "source": [
                "data3.describe()"
            ]
        },
        {
            "cell_type": "code",
            "execution_count": null,
            "metadata": {
                "collapsed": true
            },
            "outputs": [],
            "source": [
                "# search over which variables are possibly skewed\n",
                "for i in range(4):\n",
                "    tmpmean = data3.iloc[:,i].mean()\n",
                "    tmpmedian = data3.iloc[:,i].median()\n",
                "    tmpdiff = tmpmean - tmpmedian\n",
                "    if abs(tmpdiff) > 0.2:\n",
                "        print(data3.columns[i] + ' has difference of ' + str(tmpdiff) )"
            ]
        },
        {
            "cell_type": "code",
            "execution_count": null,
            "metadata": {
                "collapsed": true
            },
            "outputs": [],
            "source": [
                "# plot petal-length to see skew\n",
                "plt.hist(data3['petal-length'],bins=20)"
            ]
        },
        {
            "cell_type": "code",
            "execution_count": null,
            "metadata": {
                "collapsed": true
            },
            "outputs": [],
            "source": [
                "# transform values to reduce skew\n",
                "data3['scale-pl'] = data3['sepal-length'].transform(func='exp')\n",
                "plt.hist(data3['scale-pl'],bins=20)"
            ]
        },
        {
            "cell_type": "code",
            "execution_count": null,
            "metadata": {
                "collapsed": true
            },
            "outputs": [],
            "source": [
                "attrs = list(data3.columns)[:3]\n",
                "fig, ax = plt.subplots()\n",
                "ax.scatter(data3[attrs[0]],data3[attrs[1]])\n",
                "ax.scatter(data3[attrs[0]],data3[attrs[2]])\n",
                "ax.scatter(data3[attrs[1]],data3[attrs[2]])"
            ]
        },
        {
            "cell_type": "code",
            "execution_count": null,
            "metadata": {
                "collapsed": true
            },
            "outputs": [],
            "source": [
                "# get data as numpy matrix\n",
                "data4 = data3.iloc[:,0:4]\n",
                "X = data4.values\n",
                "\n",
                "# normalize values using sklearn\n",
                "X_scaled = preprocessing.scale(X)\n",
                "#data4.columns\n",
                "data4s = pd.DataFrame(X_scaled, index=data4.index, columns=data4.columns)\n",
                "data4s.describe()"
            ]
        },
        {
            "cell_type": "code",
            "execution_count": null,
            "metadata": {
                "collapsed": true
            },
            "outputs": [],
            "source": [
                "attrs = list(data4s.columns)[:3]\n",
                "fig, ax = plt.subplots()\n",
                "ax.scatter(data4s[attrs[0]],data4s[attrs[1]])\n",
                "ax.scatter(data4s[attrs[0]],data4s[attrs[2]])\n",
                "ax.scatter(data4s[attrs[1]],data4s[attrs[2]])"
            ]
        },
        {
            "cell_type": "code",
            "execution_count": null,
            "metadata": {
                "collapsed": true
            },
            "outputs": [],
            "source": [
                "data5s = data4s.sample(frac=0.10)"
            ]
        },
        {
            "cell_type": "code",
            "execution_count": null,
            "metadata": {
                "collapsed": true
            },
            "outputs": [],
            "source": [
                "# pairwise distances among sample of data\n",
                "#dists = euclidean_distances(data5s.values)\n",
                "dists = euclidean_distances(data5s.sort_index().values)\n",
                "plt.imshow(dists)"
            ]
        },
        {
            "cell_type": "code",
            "execution_count": null,
            "metadata": {
                "collapsed": true
            },
            "outputs": [],
            "source": [
                "# stratified sample by category\n",
                "data6s = None\n",
                "for cat, cat_data in data3.groupby('category'):\n",
                "    tmpSample = cat_data.sample(frac=0.10)\n",
                "    if data6s is None:\n",
                "        data6s = tmpSample\n",
                "    else:\n",
                "        data6s = data6s.append(tmpSample)\n",
                "data6s.describe()"
            ]
        },
        {
            "cell_type": "code",
            "execution_count": null,
            "metadata": {
                "collapsed": true
            },
            "outputs": [],
            "source": [
                "dists = euclidean_distances(data6s.iloc[:,0:4].sort_index().values)\n",
                "plt.imshow(dists)"
            ]
        },
        {
            "cell_type": "code",
            "execution_count": null,
            "metadata": {
                "collapsed": true
            },
            "outputs": [],
            "source": []
        }
    ],
    "metadata": {
        "kernelspec": {
            "display_name": "Python 3 [3.6]",
            "language": "python",
            "name": "python3"
        },
        "language_info": {
            "codemirror_mode": {
                "name": "ipython",
                "version": 3
            },
            "file_extension": ".py",
            "mimetype": "text\/x-python",
            "name": "python",
            "nbconvert_exporter": "python",
            "pygments_lexer": "ipython3",
            "version": "3.6.4"
        }
    },
    "nbformat": 4,
    "nbformat_minor": 2
}