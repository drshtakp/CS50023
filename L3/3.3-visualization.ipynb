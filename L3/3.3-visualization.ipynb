{
    "cells": [
        {
            "cell_type": "code",
            "execution_count": null,
            "metadata": {
                "collapsed": true
            },
            "outputs": [],
            "source": [
                "import pandas as pd\n",
                "import matplotlib.pyplot as plt\n",
                "#to show plots automatically inline, otherwise use plt.show()\n",
                "%matplotlib inline "
            ]
        },
        {
            "cell_type": "code",
            "execution_count": null,
            "metadata": {
                "scrolled": true
            },
            "outputs": [],
            "source": [
                "data = pd.read_csv('iris.dat',sep=',')\n",
                "data.head()\n",
                "#len(data)"
            ]
        },
        {
            "cell_type": "code",
            "execution_count": null,
            "metadata": {
                "collapsed": true
            },
            "outputs": [],
            "source": [
                "# select first two columns\n",
                "d1=data.filter(items=['sepal-length','sepal-width'])\n",
                "d1.describe()"
            ]
        },
        {
            "cell_type": "code",
            "execution_count": null,
            "metadata": {
                "collapsed": true
            },
            "outputs": [],
            "source": [
                "# subset\n",
                "print(list(data.category.unique()))\n",
                "#data[data.category=='Iris-setosa']\n",
                "data[data.category=='Iris-setosa'][['petal-length']].head()"
            ]
        },
        {
            "cell_type": "code",
            "execution_count": null,
            "metadata": {
                "collapsed": true
            },
            "outputs": [],
            "source": [
                "# transforming data\n",
                "SLsq = data['sepal-length']*data['sepal-length']\n",
                "data['sepal-length-sq'] = SLsq\n",
                "data.describe()"
            ]
        },
        {
            "cell_type": "code",
            "execution_count": null,
            "metadata": {
                "collapsed": true
            },
            "outputs": [],
            "source": [
                "# scatterplot\n",
                "plt.scatter(data['sepal-length'],data['petal-length'])\n",
                "#plt.show() #use this instead of %matplotlib inline\n"
            ]
        },
        {
            "cell_type": "code",
            "execution_count": null,
            "metadata": {
                "collapsed": true
            },
            "outputs": [],
            "source": [
                "# histogram\n",
                "# first create a figure and subplots with axes objects for titles\n",
                "fig, ax = plt.subplots()\n",
                "ax.hist(data['sepal-width'],bins=30)\n",
                "ax.set_xlabel('Sepal Width')\n",
                "ax.set_title('Histogram of Sepal Width')\n"
            ]
        },
        {
            "cell_type": "code",
            "execution_count": null,
            "metadata": {
                "collapsed": true
            },
            "outputs": [],
            "source": [
                "# density\n",
                "d = data['sepal-width']\n",
                "fig, ax = plt.subplots()\n",
                "d.plot.kde(ax=ax, title='Density of Sepal Width')\n",
                "d.plot.kde(ax=ax, bw_method=0.1)\n",
                "d.plot.kde(ax=ax, bw_method=0.05)"
            ]
        },
        {
            "cell_type": "code",
            "execution_count": null,
            "metadata": {
                "collapsed": true
            },
            "outputs": [],
            "source": [
                "# get average petal length value for each category\n",
                "means = {}\n",
                "for cat in list(data.category.unique()):\n",
                "    means[cat] = float(data[data.category==cat][['sepal-width']].mean())\n",
                "#means\n",
                "\n",
                "# barplot showing results\n",
                "plt.bar(means.keys(), means.values())"
            ]
        },
        {
            "cell_type": "code",
            "execution_count": null,
            "metadata": {
                "collapsed": true
            },
            "outputs": [],
            "source": [
                "# boxplot\n",
                "labels = [0,0,0]\n",
                "dataGrps = [0,0,0]\n",
                "idx = 0\n",
                "\n",
                "for cat, cat_data in data.groupby('category'):\n",
                "    labels[idx]=cat\n",
                "    #print(list(cat_data['sepal-length']))\n",
                "    dataGrps[idx]=list(cat_data['petal-width'])\n",
                "    idx += 1\n",
                "\n",
                "fig, ax = plt.subplots()\n",
                "ax.boxplot(dataGrps)\n",
                "ax.set_xticklabels(labels)\n",
                "ax.set_title('Boxplot of Petal Width')\n"
            ]
        },
        {
            "cell_type": "code",
            "execution_count": null,
            "metadata": {
                "collapsed": true
            },
            "outputs": [],
            "source": [
                "# multiple scatter plots\n",
                "attrs = list(data.columns)[:3]\n",
                "#print(attrs)\n",
                "numattrs = len(attrs)\n",
                "fig, ax = plt.subplots(nrows=numattrs, ncols=numattrs)\n",
                "for i in range(numattrs):\n",
                "    for j in range(numattrs):\n",
                "        ax[i, j].scatter(data[attrs[i]],data[attrs[j]])\n"
            ]
        },
        {
            "cell_type": "code",
            "execution_count": null,
            "metadata": {
                "collapsed": true
            },
            "outputs": [],
            "source": []
        }
    ],
    "metadata": {
        "kernelspec": {
            "display_name": "Python 3",
            "language": "python",
            "name": "python3"
        },
        "language_info": {
            "codemirror_mode": {
                "name": "ipython",
                "version": 3
            },
            "file_extension": ".py",
            "mimetype": "text\/x-python",
            "name": "python",
            "nbconvert_exporter": "python",
            "pygments_lexer": "ipython3",
            "version": "3.6.3"
        }
    },
    "nbformat": 4,
    "nbformat_minor": 2
}